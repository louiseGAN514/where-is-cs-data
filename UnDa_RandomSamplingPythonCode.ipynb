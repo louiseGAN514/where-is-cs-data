{
 "cells": [
  {
   "cell_type": "markdown",
   "id": "1b2c011c",
   "metadata": {},
   "source": [
    "# Random sampling of GitHub links for manual annotation"
   ]
  },
  {
   "cell_type": "code",
   "execution_count": 1,
   "id": "30cce605",
   "metadata": {},
   "outputs": [],
   "source": [
    "import pandas as pd\n",
    "import numpy as np\n",
    "import random"
   ]
  },
  {
   "cell_type": "code",
   "execution_count": 2,
   "id": "fa82d905",
   "metadata": {},
   "outputs": [
    {
     "name": "stdout",
     "output_type": "stream",
     "text": [
      "(28830,)\n"
     ]
    }
   ],
   "source": [
    "with open('github_repo_lists.txt') as f:  #reading a .txt file\n",
    "    lines = f.readlines()\n",
    "    \n",
    "print(np.shape(lines))"
   ]
  },
  {
   "cell_type": "code",
   "execution_count": 3,
   "id": "2233e64c",
   "metadata": {},
   "outputs": [
    {
     "data": {
      "text/plain": [
       "list"
      ]
     },
     "execution_count": 3,
     "metadata": {},
     "output_type": "execute_result"
    }
   ],
   "source": [
    "type(lines)"
   ]
  },
  {
   "cell_type": "code",
   "execution_count": 15,
   "id": "7b7ac32b",
   "metadata": {},
   "outputs": [],
   "source": [
    "# ran_samples=[]\n",
    "ran_samples=random.sample(lines,150)"
   ]
  },
  {
   "cell_type": "code",
   "execution_count": 16,
   "id": "38cb1e05",
   "metadata": {},
   "outputs": [
    {
     "data": {
      "text/plain": [
       "['https://github.com/paboyle/baidu-allreduce\\n',\n",
       " 'https://github.com/stanfordnlp/color-describer\\n',\n",
       " 'https://github.com/Transkribus/TranskribusInterfaces\\n',\n",
       " 'https://github.com/ycemsubakan/sourceseparation_misc\\n',\n",
       " 'https://github.com/lanha/SupResPALM\\n',\n",
       " 'https://github.com/M66B/NetGuard\\n',\n",
       " 'https://github.com/YeZhao/phase-space-planner-locomotion\\n',\n",
       " 'https://github.com/KMCS-NII/AASC\\n',\n",
       " 'https://github.com/raldecoa/SurpriseMe\\n',\n",
       " 'https://github.com/GemsLab/KGist\\n',\n",
       " 'https://github.com/AKSW/AGDISTIS\\n',\n",
       " 'https://github.com/hycis/TensorGraph\\n',\n",
       " 'https://github.com/ltgoslo/assessing_and_probing_sentiment\\n',\n",
       " 'https://github.com/LUMII-Syslab/DNGPU\\n',\n",
       " 'https://github.com/amplab/keystone\\n',\n",
       " 'https://github.com/songhan/Deep-Compression-AlexNet\\n',\n",
       " 'https://github.com/barbua/FSA\\n',\n",
       " 'https://github.com/maciej-bendkowski/paganini\\n',\n",
       " 'https://github.com/tum-i22/rritbed\\n',\n",
       " 'https://github.com/robert-lindsey/WCRP\\n',\n",
       " 'https://github.com/imec-idlab/ns-3-dev-git\\n',\n",
       " 'https://github.com/clab/language-universal-parser\\n',\n",
       " 'https://github.com/rajarsheem/libsdae\\n',\n",
       " 'https://github.com/jimmycallin/pydsm\\n',\n",
       " 'https://github.com/pushshift/api\\n',\n",
       " 'https://github.com/WenmuZhou/PAN\\n',\n",
       " 'https://github.com/jvgomez/fastmarching\\n',\n",
       " 'https://github.com/broadinstitute/wdl\\n',\n",
       " 'https://github.com/lfsimoes/beam_paco__gtoc5\\n',\n",
       " 'https://github.com/tmux/tmux\\n',\n",
       " 'https://github.com/ros-planning/navigation\\n',\n",
       " 'https://github.com/realityengines/post_hoc_debiasing\\n',\n",
       " 'https://github.com/fubel/stmodeling\\n',\n",
       " 'https://github.com/ermongroup/a-nice-mc\\n',\n",
       " 'https://github.com/axel-bacher/mergeshuffle\\n',\n",
       " 'https://github.com/ajbrock/Neural-Photo-Editor\\n',\n",
       " 'https://github.com/saisrivatsan/deep-opt-auctions\\n',\n",
       " 'https://github.com/sg-nm/Evolutionary-Autoencoders\\n',\n",
       " 'https://github.com/google/asylo\\n',\n",
       " 'https://github.com/ywzh/arinc653model\\n',\n",
       " 'https://github.com/UKPLab/acl2019-ctest-difficulty-manipulation\\n',\n",
       " 'https://github.com/scrapinghub/dateparser\\n',\n",
       " 'https://github.com/uber-research/ape-x\\n',\n",
       " 'https://github.com/erik-nelson/blam\\n',\n",
       " 'https://github.com/Chasvortex/caffe-gui-tool\\n',\n",
       " 'https://github.com/judithfan/visual_communication_in_context\\n',\n",
       " 'https://github.com/Miffyli/ToriLLE\\n',\n",
       " 'https://github.com/timbmg/Sentence-VAE\\n',\n",
       " 'https://github.com/xz2569/FastEADAM\\n',\n",
       " 'https://github.com/tscohen/gconv_experiments\\n',\n",
       " 'https://github.com/Julian/jsonschema\\n',\n",
       " 'https://github.com/ftudisco/nonlinear-core-periphery\\n',\n",
       " 'https://github.com/mchancan/citylearn\\n',\n",
       " 'https://github.com/brjathu/RPSnet\\n',\n",
       " 'https://github.com/ifnspaml/Components-Loss\\n',\n",
       " 'https://github.com/ZmeiGorynych/generative_playground\\n',\n",
       " 'https://github.com/mossdet/Mossdet\\n',\n",
       " 'https://github.com/atsushi-miyauchi/robust-densest-subgraph-discovery\\n',\n",
       " 'https://github.com/pmcharrison/incon\\n',\n",
       " 'https://github.com/cisco/ns3-rmcat\\n',\n",
       " 'https://github.com/chihyaoma/selfmonitoring-agent\\n',\n",
       " 'https://github.com/rmsalinas/fbow\\n',\n",
       " 'https://github.com/floodsung/LearningToCompare_FSL\\n',\n",
       " 'https://github.com/wn-upf/Decentralized-AP-selection-using-Multi-Armed-Bandits\\n',\n",
       " 'https://github.com/citp/ad-blocking\\n',\n",
       " 'https://github.com/XifengGuo/IDEC-toy\\n',\n",
       " 'https://github.com/godka/bounded-neural-network\\n',\n",
       " 'https://github.com/m2ym/optima\\n',\n",
       " 'https://github.com/mlresearch/papersite\\n',\n",
       " 'https://github.com/sharkovsky/CoreNeuron\\n',\n",
       " 'https://github.com/CSAILVision/places365\\n',\n",
       " 'https://github.com/facebookincubator/gloo\\n',\n",
       " 'https://github.com/pantos-io/go-testimonium\\n',\n",
       " 'https://github.com/TropComplique/mtcnn-pytorch\\n',\n",
       " 'https://github.com/vasiloglou/mltrain-nips-2017\\n',\n",
       " 'https://github.com/Yochengliu/DensePoint\\n',\n",
       " 'https://github.com/DLR-RM/AugmentedAutoencoder\\n',\n",
       " 'https://github.com/trevorcampbell/bayesian-coresets\\n',\n",
       " 'https://github.com/malmaud/TensorFlow\\n',\n",
       " 'https://github.com/sergiormpereira/brain_tumor_grading\\n',\n",
       " 'https://github.com/tinloaf/ygg\\n',\n",
       " 'https://github.com/bpopeters/mg2p\\n',\n",
       " 'https://github.com/Kyubyong/wordvectors\\n',\n",
       " 'https://github.com/abbyvansoest/maxent_ant\\n',\n",
       " 'https://github.com/phucty/MTab\\n',\n",
       " 'https://github.com/DataSystemsLab/hippo-postgresql\\n',\n",
       " 'https://github.com/greyblake/whatlang-rs\\n',\n",
       " 'https://github.com/mapbox/mapboxgl-jupyter\\n',\n",
       " 'https://github.com/AlanLuSun/High-quality-ellipse-detection\\n',\n",
       " 'https://github.com/flow-project/ray\\n',\n",
       " 'https://github.com/sebschu/naacl-gapping\\n',\n",
       " 'https://github.com/kepsail/ie-HGCN\\n',\n",
       " 'https://github.com/imcsq/S2OMGAN\\n',\n",
       " 'https://github.com/baselm/cmarl\\n',\n",
       " 'https://github.com/dcstamuc/FlowDataGen\\n',\n",
       " 'https://github.com/abhiksingla/UAV_obstacle_avoidance_controller\\n',\n",
       " 'https://github.com/maikol-solis/trajectory_distance\\n',\n",
       " 'https://github.com/jangirrishabh/Overcoming-exploration-from-demos\\n',\n",
       " 'https://github.com/serval-snt-uni-lu/CommonLibraries\\n',\n",
       " 'https://github.com/kepingbi/ARedSumSentRank\\n',\n",
       " 'https://github.com/SimonLucas/ntbea\\n',\n",
       " 'https://github.com/fanci-dga-detection/fanci\\n',\n",
       " 'https://github.com/nshaud/DeepNetsForEO\\n',\n",
       " 'https://github.com/aymericdamien/TensorFlow-Examples\\n',\n",
       " 'https://github.com/incanter/incanter\\n',\n",
       " 'https://github.com/jiaqi61/asyspa\\n',\n",
       " 'https://github.com/DIVA-DIA/DIVAgain\\n',\n",
       " 'https://github.com/paulohubert/babool\\n',\n",
       " 'https://github.com/davidebasile/workspace\\n',\n",
       " 'https://github.com/DeqingYang/ACAM-model\\n',\n",
       " 'https://github.com/bobye/WBC_Matlab\\n',\n",
       " 'https://github.com/ZhihuaLiuEd/canetbrats\\n',\n",
       " 'https://github.com/DeepBCI/Deep-BCI\\n',\n",
       " 'https://github.com/HaizhaoYang/SynLab\\n',\n",
       " 'https://github.com/THEEJUNG/PosCal\\n',\n",
       " 'https://github.com/endgameinc/ember\\n',\n",
       " 'https://github.com/apache/griffin\\n',\n",
       " 'https://github.com/laeubli/parity\\n',\n",
       " 'https://github.com/K-Mitsuno/hierarchical-group-sparse-regularization\\n',\n",
       " 'https://github.com/KupynOrest/DeblurGAN\\n',\n",
       " 'https://github.com/amazonqa/amazonqa\\n',\n",
       " 'https://github.com/santient/convcrypt\\n',\n",
       " 'https://github.com/ite4cp/ite\\n',\n",
       " 'https://github.com/bxiong1202/snap-points\\n',\n",
       " 'https://github.com/ThomasRuby/LQICM_On_C_Toy_Parser\\n',\n",
       " 'https://github.com/mingsun-tse/collaborative-distillation\\n',\n",
       " 'https://github.com/Jeffrey-Ede/Denoising-Kernels-MLPs-Autoencoders\\n',\n",
       " 'https://github.com/forensic-architecture/mtriage-viewer\\n',\n",
       " 'https://github.com/biboudis/clashofthelambdas\\n',\n",
       " 'https://github.com/skadistats/clarity\\n',\n",
       " 'https://github.com/Wuziyi616/CFUN\\n',\n",
       " 'https://github.com/anheidelonghu/ACNet\\n',\n",
       " 'https://github.com/uber-research/learning-to-reweight-examples\\n',\n",
       " 'https://github.com/evanmy/voxel_shape_analysis\\n',\n",
       " 'https://github.com/eminorhan/robust-vision\\n',\n",
       " 'https://github.com/Microsoft/robust-models-transfer\\n',\n",
       " 'https://github.com/zjzsliyang/CrossLeak\\n',\n",
       " 'https://github.com/qyyin/Reinforce4ZP\\n',\n",
       " 'https://github.com/ucomignani/MapRepair\\n',\n",
       " 'https://github.com/Atomu2014/product-nets\\n',\n",
       " 'https://github.com/ICIdsl/caffe_fpga\\n',\n",
       " 'https://github.com/skojaku/qstest\\n',\n",
       " 'https://github.com/PolySync/oscc\\n',\n",
       " 'https://github.com/qcri/dialectID\\n',\n",
       " 'https://github.com/AhmedElkelesh/Genetic-Algorithm-based-Polar-Code-Construction\\n',\n",
       " 'https://github.com/StijnVerdenius/SNIP-it\\n',\n",
       " 'https://github.com/jupyterhub/jupyterhub\\n',\n",
       " 'https://github.com/coq-contribs/ccs\\n',\n",
       " 'https://github.com/clovaai/CRAFT-pytorch\\n',\n",
       " 'https://github.com/kazuibasou/KDD2020\\n']"
      ]
     },
     "execution_count": 16,
     "metadata": {},
     "output_type": "execute_result"
    }
   ],
   "source": [
    "ran_samples"
   ]
  },
  {
   "cell_type": "code",
   "execution_count": null,
   "id": "c20a6918",
   "metadata": {},
   "outputs": [],
   "source": []
  },
  {
   "cell_type": "code",
   "execution_count": 8,
   "id": "1db02799",
   "metadata": {},
   "outputs": [],
   "source": []
  },
  {
   "cell_type": "code",
   "execution_count": null,
   "id": "e5632059",
   "metadata": {},
   "outputs": [],
   "source": []
  },
  {
   "cell_type": "code",
   "execution_count": null,
   "id": "1e739cb5",
   "metadata": {},
   "outputs": [],
   "source": []
  }
 ],
 "metadata": {
  "kernelspec": {
   "display_name": "Python 3 (ipykernel)",
   "language": "python",
   "name": "python3"
  },
  "language_info": {
   "codemirror_mode": {
    "name": "ipython",
    "version": 3
   },
   "file_extension": ".py",
   "mimetype": "text/x-python",
   "name": "python",
   "nbconvert_exporter": "python",
   "pygments_lexer": "ipython3",
   "version": "3.9.7"
  }
 },
 "nbformat": 4,
 "nbformat_minor": 5
}
